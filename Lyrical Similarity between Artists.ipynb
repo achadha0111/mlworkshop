{
 "cells": [
  {
   "cell_type": "code",
   "execution_count": 2,
   "metadata": {
    "collapsed": false
   },
   "outputs": [],
   "source": [
    "import pandas as pd\n",
    "import numpy as np\n",
    "import gensim.models.word2vec as w2v\n",
    "import multiprocessing\n",
    "import os\n",
    "import re\n",
    "import pprint\n",
    "import sklearn.manifold\n",
    "import matplotlib.pyplot as plt\n",
    "\n"
   ]
  },
  {
   "cell_type": "code",
   "execution_count": 3,
   "metadata": {
    "collapsed": false
   },
   "outputs": [
    {
     "data": {
      "text/html": [
       "<div>\n",
       "<table border=\"1\" class=\"dataframe\">\n",
       "  <thead>\n",
       "    <tr style=\"text-align: right;\">\n",
       "      <th></th>\n",
       "      <th>artist</th>\n",
       "      <th>song</th>\n",
       "      <th>link</th>\n",
       "      <th>text</th>\n",
       "    </tr>\n",
       "  </thead>\n",
       "  <tbody>\n",
       "    <tr>\n",
       "      <th>0</th>\n",
       "      <td>ABBA</td>\n",
       "      <td>Ahe's My Kind Of Girl</td>\n",
       "      <td>/a/abba/ahes+my+kind+of+girl_20598417.html</td>\n",
       "      <td>Look at her face, it's a wonderful face  \\nAnd...</td>\n",
       "    </tr>\n",
       "    <tr>\n",
       "      <th>1</th>\n",
       "      <td>ABBA</td>\n",
       "      <td>Andante, Andante</td>\n",
       "      <td>/a/abba/andante+andante_20002708.html</td>\n",
       "      <td>Take it easy with me, please  \\nTouch me gentl...</td>\n",
       "    </tr>\n",
       "    <tr>\n",
       "      <th>2</th>\n",
       "      <td>ABBA</td>\n",
       "      <td>As Good As New</td>\n",
       "      <td>/a/abba/as+good+as+new_20003033.html</td>\n",
       "      <td>I'll never know why I had to go  \\nWhy I had t...</td>\n",
       "    </tr>\n",
       "    <tr>\n",
       "      <th>3</th>\n",
       "      <td>ABBA</td>\n",
       "      <td>Bang</td>\n",
       "      <td>/a/abba/bang_20598415.html</td>\n",
       "      <td>Making somebody happy is a question of give an...</td>\n",
       "    </tr>\n",
       "    <tr>\n",
       "      <th>4</th>\n",
       "      <td>ABBA</td>\n",
       "      <td>Bang-A-Boomerang</td>\n",
       "      <td>/a/abba/bang+a+boomerang_20002668.html</td>\n",
       "      <td>Making somebody happy is a question of give an...</td>\n",
       "    </tr>\n",
       "  </tbody>\n",
       "</table>\n",
       "</div>"
      ],
      "text/plain": [
       "  artist                   song                                        link  \\\n",
       "0   ABBA  Ahe's My Kind Of Girl  /a/abba/ahes+my+kind+of+girl_20598417.html   \n",
       "1   ABBA       Andante, Andante       /a/abba/andante+andante_20002708.html   \n",
       "2   ABBA         As Good As New        /a/abba/as+good+as+new_20003033.html   \n",
       "3   ABBA                   Bang                  /a/abba/bang_20598415.html   \n",
       "4   ABBA       Bang-A-Boomerang      /a/abba/bang+a+boomerang_20002668.html   \n",
       "\n",
       "                                                text  \n",
       "0  Look at her face, it's a wonderful face  \\nAnd...  \n",
       "1  Take it easy with me, please  \\nTouch me gentl...  \n",
       "2  I'll never know why I had to go  \\nWhy I had t...  \n",
       "3  Making somebody happy is a question of give an...  \n",
       "4  Making somebody happy is a question of give an...  "
      ]
     },
     "execution_count": 3,
     "metadata": {},
     "output_type": "execute_result"
    }
   ],
   "source": [
    "songs = pd.read_csv(\"/Users/aayushchadha/Downloads/songdata.csv\", header=0)\n",
    "#songs.head()\n",
    "songs = songs[songs.artist != 'Lata Mangeshkar']\n",
    "songs.head()\n"
   ]
  },
  {
   "cell_type": "code",
   "execution_count": 51,
   "metadata": {
    "collapsed": false
   },
   "outputs": [
    {
     "name": "stdout",
     "output_type": "stream",
     "text": [
      "57618\n"
     ]
    }
   ],
   "source": [
    "text_corpus = []\n",
    "for song in songs['text']:\n",
    "    words = song.lower().split()\n",
    "    text_corpus.append(words)\n",
    "\n",
    "    #ONCE we have vectors\n",
    "#step 3 - build model\n",
    "#3 main tasks that vectors help with\n",
    "#DISTANCE, SIMILARITY, RANKING\n",
    "\n",
    "# Dimensionality of the resulting word vectors.\n",
    "#more dimensions, more computationally expensive to train\n",
    "#but also more accurate\n",
    "#more dimensions = more generalized\n",
    "num_features = 50\n",
    "# Minimum word count threshold.\n",
    "min_word_count = 1\n",
    "\n",
    "# Number of threads to run in parallel.\n",
    "#more workers, faster we train\n",
    "num_workers = multiprocessing.cpu_count()\n",
    "\n",
    "# Context window length.\n",
    "context_size = 7\n",
    "\n",
    "# Downsample setting for frequent words.\n",
    "#0 - 1e-5 is good for this\n",
    "downsampling = 1e-1\n",
    "\n",
    "# Seed for the RNG, to make the results reproducible.\n",
    "#random number generator\n",
    "#deterministic, good for debugging\n",
    "seed = 1\n",
    "\n",
    "songs2vec = w2v.Word2Vec(\n",
    "    sg=1,\n",
    "    seed=seed,\n",
    "    workers=num_workers,\n",
    "    size=num_features,\n",
    "    min_count=min_word_count,\n",
    "    window=context_size,\n",
    "    sample=downsampling\n",
    ")\n",
    "\n",
    "songs2vec.build_vocab(text_corpus)\n",
    "print (len(text_corpus))"
   ]
  },
  {
   "cell_type": "code",
   "execution_count": 52,
   "metadata": {
    "collapsed": false
   },
   "outputs": [
    {
     "name": "stdout",
     "output_type": "stream",
     "text": [
      "--- 298.3136217594147 seconds ---\n"
     ]
    }
   ],
   "source": [
    "import time\n",
    "start_time = time.time()\n",
    "\n",
    "\n",
    "\n",
    "songs2vec.train(text_corpus)\n",
    "\n",
    "if not os.path.exists(\"trained\"):\n",
    "    os.makedirs(\"trained\")\n",
    "\n",
    "songs2vec.save(os.path.join(\"trained\", \"songs2vectors.w2v\"))\n",
    "\n",
    "print(\"--- %s seconds ---\" % (time.time() - start_time))"
   ]
  },
  {
   "cell_type": "code",
   "execution_count": 4,
   "metadata": {
    "collapsed": false
   },
   "outputs": [],
   "source": [
    "songs2vec = w2v.Word2Vec.load(os.path.join(\"trained\", \"songs2vectors.w2v\"))"
   ]
  },
  {
   "cell_type": "code",
   "execution_count": 5,
   "metadata": {
    "collapsed": false
   },
   "outputs": [
    {
     "name": "stdout",
     "output_type": "stream",
     "text": [
      "[ 0.07639486  0.14794612 -0.02950447 -0.11471502  0.01379999 -0.03689257\n",
      "  0.08070549  0.11641828 -0.06616479 -0.04819403 -0.05529087  0.04415668\n",
      "  0.01586323 -0.027852   -0.03093797  0.0462577  -0.01044002 -0.19352244\n",
      " -0.06914271  0.16508158 -0.11803728  0.02449879 -0.13418569  0.17019983\n",
      " -0.08197258 -0.13308808  0.02446113 -0.09515736 -0.03024296  0.01019404\n",
      "  0.18805157  0.10736922  0.0434821  -0.22622068 -0.05174229 -0.16702813\n",
      "  0.00199558 -0.08532391 -0.13357763 -0.17946053  0.09619296 -0.03936654\n",
      " -0.0347906  -0.06207792 -0.04948123  0.04932227 -0.00637919  0.0424794\n",
      "  0.14268583  0.04900933]\n"
     ]
    },
    {
     "ename": "NameError",
     "evalue": "name 'train' is not defined",
     "output_type": "error",
     "traceback": [
      "\u001b[0;31m---------------------------------------------------------------------------\u001b[0m",
      "\u001b[0;31mNameError\u001b[0m                                 Traceback (most recent call last)",
      "\u001b[0;32m<ipython-input-5-d7c53f0fa677>\u001b[0m in \u001b[0;36m<module>\u001b[0;34m()\u001b[0m\n\u001b[1;32m     15\u001b[0m \u001b[0msongs\u001b[0m\u001b[0;34m[\u001b[0m\u001b[0;34m'song_vector'\u001b[0m\u001b[0;34m]\u001b[0m \u001b[0;34m=\u001b[0m \u001b[0msongs\u001b[0m\u001b[0;34m[\u001b[0m\u001b[0;34m'text'\u001b[0m\u001b[0;34m]\u001b[0m\u001b[0;34m.\u001b[0m\u001b[0mapply\u001b[0m\u001b[0;34m(\u001b[0m\u001b[0msongVector\u001b[0m\u001b[0;34m)\u001b[0m\u001b[0;34m\u001b[0m\u001b[0m\n\u001b[1;32m     16\u001b[0m \u001b[0;34m\u001b[0m\u001b[0m\n\u001b[0;32m---> 17\u001b[0;31m \u001b[0mtrain\u001b[0m\u001b[0;34m.\u001b[0m\u001b[0mhead\u001b[0m\u001b[0;34m(\u001b[0m\u001b[0;34m)\u001b[0m\u001b[0;34m\u001b[0m\u001b[0m\n\u001b[0m\u001b[1;32m     18\u001b[0m \u001b[0mprint\u001b[0m\u001b[0;34m(\u001b[0m\u001b[0;34m\"--- %s seconds ---\"\u001b[0m \u001b[0;34m%\u001b[0m \u001b[0;34m(\u001b[0m\u001b[0mtime\u001b[0m\u001b[0;34m.\u001b[0m\u001b[0mtime\u001b[0m\u001b[0;34m(\u001b[0m\u001b[0;34m)\u001b[0m \u001b[0;34m-\u001b[0m \u001b[0mstart_time\u001b[0m\u001b[0;34m)\u001b[0m\u001b[0;34m)\u001b[0m\u001b[0;34m\u001b[0m\u001b[0m\n\u001b[1;32m     19\u001b[0m \u001b[0;34m\u001b[0m\u001b[0m\n",
      "\u001b[0;31mNameError\u001b[0m: name 'train' is not defined"
     ]
    }
   ],
   "source": [
    "print(songs2vec['un-right'])\n",
    "def songVector(row):\n",
    "    vector_sum = 0\n",
    "    words = row.lower().split()\n",
    "    for word in words:\n",
    "        vector_sum = vector_sum + songs2vec[word]\n",
    "    vector_sum = vector_sum.reshape(1,-1)\n",
    "    normalised_vector_sum = sklearn.preprocessing.normalize(vector_sum)\n",
    "    return normalised_vector_sum\n",
    "\n",
    "\n",
    "import time\n",
    "start_time = time.time()\n",
    "\n",
    "songs['song_vector'] = songs['text'].apply(songVector)\n",
    "\n",
    "\n",
    "\n",
    "\n"
   ]
  },
  {
   "cell_type": "code",
   "execution_count": 6,
   "metadata": {
    "collapsed": false
   },
   "outputs": [
    {
     "data": {
      "text/html": [
       "<div>\n",
       "<table border=\"1\" class=\"dataframe\">\n",
       "  <thead>\n",
       "    <tr style=\"text-align: right;\">\n",
       "      <th></th>\n",
       "      <th>artist</th>\n",
       "      <th>song</th>\n",
       "      <th>link</th>\n",
       "      <th>text</th>\n",
       "      <th>song_vector</th>\n",
       "    </tr>\n",
       "  </thead>\n",
       "  <tbody>\n",
       "    <tr>\n",
       "      <th>0</th>\n",
       "      <td>ABBA</td>\n",
       "      <td>Ahe's My Kind Of Girl</td>\n",
       "      <td>/a/abba/ahes+my+kind+of+girl_20598417.html</td>\n",
       "      <td>Look at her face, it's a wonderful face  \\nAnd...</td>\n",
       "      <td>[[0.0256763, 0.309385, -0.169509, -0.0479835, ...</td>\n",
       "    </tr>\n",
       "    <tr>\n",
       "      <th>1</th>\n",
       "      <td>ABBA</td>\n",
       "      <td>Andante, Andante</td>\n",
       "      <td>/a/abba/andante+andante_20002708.html</td>\n",
       "      <td>Take it easy with me, please  \\nTouch me gentl...</td>\n",
       "      <td>[[-0.0348163, 0.272111, -0.166464, -0.00871774...</td>\n",
       "    </tr>\n",
       "    <tr>\n",
       "      <th>2</th>\n",
       "      <td>ABBA</td>\n",
       "      <td>As Good As New</td>\n",
       "      <td>/a/abba/as+good+as+new_20003033.html</td>\n",
       "      <td>I'll never know why I had to go  \\nWhy I had t...</td>\n",
       "      <td>[[0.0478249, 0.302333, -0.169563, -0.0242387, ...</td>\n",
       "    </tr>\n",
       "    <tr>\n",
       "      <th>3</th>\n",
       "      <td>ABBA</td>\n",
       "      <td>Bang</td>\n",
       "      <td>/a/abba/bang_20598415.html</td>\n",
       "      <td>Making somebody happy is a question of give an...</td>\n",
       "      <td>[[0.057627, 0.295603, -0.160222, -0.0383688, -...</td>\n",
       "    </tr>\n",
       "    <tr>\n",
       "      <th>4</th>\n",
       "      <td>ABBA</td>\n",
       "      <td>Bang-A-Boomerang</td>\n",
       "      <td>/a/abba/bang+a+boomerang_20002668.html</td>\n",
       "      <td>Making somebody happy is a question of give an...</td>\n",
       "      <td>[[0.0593327, 0.299534, -0.161537, -0.0415768, ...</td>\n",
       "    </tr>\n",
       "  </tbody>\n",
       "</table>\n",
       "</div>"
      ],
      "text/plain": [
       "  artist                   song                                        link  \\\n",
       "0   ABBA  Ahe's My Kind Of Girl  /a/abba/ahes+my+kind+of+girl_20598417.html   \n",
       "1   ABBA       Andante, Andante       /a/abba/andante+andante_20002708.html   \n",
       "2   ABBA         As Good As New        /a/abba/as+good+as+new_20003033.html   \n",
       "3   ABBA                   Bang                  /a/abba/bang_20598415.html   \n",
       "4   ABBA       Bang-A-Boomerang      /a/abba/bang+a+boomerang_20002668.html   \n",
       "\n",
       "                                                text  \\\n",
       "0  Look at her face, it's a wonderful face  \\nAnd...   \n",
       "1  Take it easy with me, please  \\nTouch me gentl...   \n",
       "2  I'll never know why I had to go  \\nWhy I had t...   \n",
       "3  Making somebody happy is a question of give an...   \n",
       "4  Making somebody happy is a question of give an...   \n",
       "\n",
       "                                         song_vector  \n",
       "0  [[0.0256763, 0.309385, -0.169509, -0.0479835, ...  \n",
       "1  [[-0.0348163, 0.272111, -0.166464, -0.00871774...  \n",
       "2  [[0.0478249, 0.302333, -0.169563, -0.0242387, ...  \n",
       "3  [[0.057627, 0.295603, -0.160222, -0.0383688, -...  \n",
       "4  [[0.0593327, 0.299534, -0.161537, -0.0415768, ...  "
      ]
     },
     "execution_count": 6,
     "metadata": {},
     "output_type": "execute_result"
    }
   ],
   "source": [
    "songs.head()\n",
    "    "
   ]
  },
  {
   "cell_type": "code",
   "execution_count": 19,
   "metadata": {
    "collapsed": false
   },
   "outputs": [
    {
     "data": {
      "text/html": [
       "<div>\n",
       "<table border=\"1\" class=\"dataframe\">\n",
       "  <thead>\n",
       "    <tr style=\"text-align: right;\">\n",
       "      <th></th>\n",
       "      <th>artist</th>\n",
       "      <th>song</th>\n",
       "      <th>link</th>\n",
       "      <th>text</th>\n",
       "      <th>song_vector</th>\n",
       "    </tr>\n",
       "  </thead>\n",
       "  <tbody>\n",
       "    <tr>\n",
       "      <th>14849</th>\n",
       "      <td>Oliver</td>\n",
       "      <td>As Long As He Needs Me</td>\n",
       "      <td>/o/oliver/as+long+as+he+needs+me_20608709.html</td>\n",
       "      <td>As long as he needs me...  \\nOh, yes, he does ...</td>\n",
       "      <td>[[-0.0315812, 0.335919, -0.196711, -0.0528897,...</td>\n",
       "    </tr>\n",
       "    <tr>\n",
       "      <th>15645</th>\n",
       "      <td>Paul Simon</td>\n",
       "      <td>You're Kind</td>\n",
       "      <td>/p/paul+simon/youre+kind_20105959.html</td>\n",
       "      <td>You're kind, you're so kind  \\nYou rescued me ...</td>\n",
       "      <td>[[0.0302546, 0.273594, -0.19587, -0.0314226, -...</td>\n",
       "    </tr>\n",
       "    <tr>\n",
       "      <th>22629</th>\n",
       "      <td>Zornik</td>\n",
       "      <td>We Are Lost</td>\n",
       "      <td>/z/zornik/we+are+lost_20347214.html</td>\n",
       "      <td>I want to climb up in the sky with you  \\nTo s...</td>\n",
       "      <td>[[0.0208253, 0.292814, -0.206927, -0.0749131, ...</td>\n",
       "    </tr>\n",
       "    <tr>\n",
       "      <th>25071</th>\n",
       "      <td>Bee Gees</td>\n",
       "      <td>Loose Talk Costs Lives</td>\n",
       "      <td>/b/bee+gees/loose+talk+costs+lives_20015752.html</td>\n",
       "      <td>Loose talk costs lives  \\nPeople like to play ...</td>\n",
       "      <td>[[0.0390722, 0.321847, -0.189492, -0.012435, -...</td>\n",
       "    </tr>\n",
       "    <tr>\n",
       "      <th>29979</th>\n",
       "      <td>Dolly Parton</td>\n",
       "      <td>Hillbilly Willy</td>\n",
       "      <td>/d/dolly+parton/hillbilly+willy_20214066.html</td>\n",
       "      <td>Now Little Will was from the hills way back in...</td>\n",
       "      <td>[[0.138491, 0.291326, -0.160594, -0.0387402, -...</td>\n",
       "    </tr>\n",
       "    <tr>\n",
       "      <th>41226</th>\n",
       "      <td>Lana Del Rey</td>\n",
       "      <td>Summertime Sadness</td>\n",
       "      <td>/l/lana+del+rey/summertime+sadness_20992968.html</td>\n",
       "      <td>Kiss me hard before you go  \\nSummertime sadne...</td>\n",
       "      <td>[[0.0128133, 0.266378, -0.129556, -0.011296, -...</td>\n",
       "    </tr>\n",
       "    <tr>\n",
       "      <th>1088</th>\n",
       "      <td>Barbra Streisand</td>\n",
       "      <td>I Had Myself A True Love</td>\n",
       "      <td>/b/barbra+streisand/i+had+myself+a+true+love_2...</td>\n",
       "      <td>I had myself a true love  \\nA true love who wa...</td>\n",
       "      <td>[[0.0967401, 0.295728, -0.168346, -0.0520959, ...</td>\n",
       "    </tr>\n",
       "    <tr>\n",
       "      <th>9894</th>\n",
       "      <td>Judas Priest</td>\n",
       "      <td>Love Zone</td>\n",
       "      <td>/j/judas+priest/love+zone_20076191.html</td>\n",
       "      <td>Been awake all night, can't get no sleep  \\nI ...</td>\n",
       "      <td>[[0.0717128, 0.2559, -0.225748, -0.0403028, -0...</td>\n",
       "    </tr>\n",
       "    <tr>\n",
       "      <th>1474</th>\n",
       "      <td>Bing Crosby</td>\n",
       "      <td>'Round And 'Round The Christmas Tree</td>\n",
       "      <td>/b/bing+crosby/round+and+round+the+christmas+t...</td>\n",
       "      <td>Round and round the Christmas tree  \\nPresents...</td>\n",
       "      <td>[[0.0930563, 0.312121, -0.0810639, -0.0844544,...</td>\n",
       "    </tr>\n",
       "    <tr>\n",
       "      <th>41506</th>\n",
       "      <td>Leo Sayer</td>\n",
       "      <td>The End Of The Game</td>\n",
       "      <td>/l/leo+sayer/the+end+of+the+game_20718521.html</td>\n",
       "      <td>Though he heard her clearly  \\nShe said it so ...</td>\n",
       "      <td>[[0.0242706, 0.293231, -0.174866, -0.0643418, ...</td>\n",
       "    </tr>\n",
       "  </tbody>\n",
       "</table>\n",
       "</div>"
      ],
      "text/plain": [
       "                 artist                                  song  \\\n",
       "14849            Oliver                As Long As He Needs Me   \n",
       "15645        Paul Simon                           You're Kind   \n",
       "22629            Zornik                           We Are Lost   \n",
       "25071          Bee Gees                Loose Talk Costs Lives   \n",
       "29979      Dolly Parton                       Hillbilly Willy   \n",
       "41226      Lana Del Rey                    Summertime Sadness   \n",
       "1088   Barbra Streisand              I Had Myself A True Love   \n",
       "9894       Judas Priest                             Love Zone   \n",
       "1474        Bing Crosby  'Round And 'Round The Christmas Tree   \n",
       "41506         Leo Sayer                   The End Of The Game   \n",
       "\n",
       "                                                    link  \\\n",
       "14849     /o/oliver/as+long+as+he+needs+me_20608709.html   \n",
       "15645             /p/paul+simon/youre+kind_20105959.html   \n",
       "22629                /z/zornik/we+are+lost_20347214.html   \n",
       "25071   /b/bee+gees/loose+talk+costs+lives_20015752.html   \n",
       "29979      /d/dolly+parton/hillbilly+willy_20214066.html   \n",
       "41226   /l/lana+del+rey/summertime+sadness_20992968.html   \n",
       "1088   /b/barbra+streisand/i+had+myself+a+true+love_2...   \n",
       "9894             /j/judas+priest/love+zone_20076191.html   \n",
       "1474   /b/bing+crosby/round+and+round+the+christmas+t...   \n",
       "41506     /l/leo+sayer/the+end+of+the+game_20718521.html   \n",
       "\n",
       "                                                    text  \\\n",
       "14849  As long as he needs me...  \\nOh, yes, he does ...   \n",
       "15645  You're kind, you're so kind  \\nYou rescued me ...   \n",
       "22629  I want to climb up in the sky with you  \\nTo s...   \n",
       "25071  Loose talk costs lives  \\nPeople like to play ...   \n",
       "29979  Now Little Will was from the hills way back in...   \n",
       "41226  Kiss me hard before you go  \\nSummertime sadne...   \n",
       "1088   I had myself a true love  \\nA true love who wa...   \n",
       "9894   Been awake all night, can't get no sleep  \\nI ...   \n",
       "1474   Round and round the Christmas tree  \\nPresents...   \n",
       "41506  Though he heard her clearly  \\nShe said it so ...   \n",
       "\n",
       "                                             song_vector  \n",
       "14849  [[-0.0315812, 0.335919, -0.196711, -0.0528897,...  \n",
       "15645  [[0.0302546, 0.273594, -0.19587, -0.0314226, -...  \n",
       "22629  [[0.0208253, 0.292814, -0.206927, -0.0749131, ...  \n",
       "25071  [[0.0390722, 0.321847, -0.189492, -0.012435, -...  \n",
       "29979  [[0.138491, 0.291326, -0.160594, -0.0387402, -...  \n",
       "41226  [[0.0128133, 0.266378, -0.129556, -0.011296, -...  \n",
       "1088   [[0.0967401, 0.295728, -0.168346, -0.0520959, ...  \n",
       "9894   [[0.0717128, 0.2559, -0.225748, -0.0403028, -0...  \n",
       "1474   [[0.0930563, 0.312121, -0.0810639, -0.0844544,...  \n",
       "41506  [[0.0242706, 0.293231, -0.174866, -0.0643418, ...  "
      ]
     },
     "execution_count": 19,
     "metadata": {},
     "output_type": "execute_result"
    }
   ],
   "source": [
    "song_vectors = []\n",
    "from sklearn.model_selection import train_test_split\n",
    "\n",
    "train, test = train_test_split(songs, test_size = 0.9)\n",
    "\n",
    "\n",
    "for song_vector in train['song_vector']:\n",
    "    song_vectors.append(song_vector)\n",
    "\n",
    "train.head(10)\n"
   ]
  },
  {
   "cell_type": "code",
   "execution_count": 22,
   "metadata": {
    "collapsed": false
   },
   "outputs": [
    {
     "name": "stdout",
     "output_type": "stream",
     "text": [
      "[t-SNE] Computing pairwise distances...\n",
      "[t-SNE] Computing 91 nearest neighbors...\n",
      "[t-SNE] Computed conditional probabilities for sample 1000 / 5761\n",
      "[t-SNE] Computed conditional probabilities for sample 2000 / 5761\n",
      "[t-SNE] Computed conditional probabilities for sample 3000 / 5761\n",
      "[t-SNE] Computed conditional probabilities for sample 4000 / 5761\n",
      "[t-SNE] Computed conditional probabilities for sample 5000 / 5761\n",
      "[t-SNE] Computed conditional probabilities for sample 5761 / 5761\n",
      "[t-SNE] Mean sigma: 0.052817\n",
      "[t-SNE] Iteration 25: error = 1.4294568, gradient norm = 0.0097812\n",
      "[t-SNE] Iteration 50: error = 1.4023627, gradient norm = 0.0064141\n",
      "[t-SNE] Iteration 75: error = 1.3296787, gradient norm = 0.0015149\n",
      "[t-SNE] Iteration 100: error = 1.3173788, gradient norm = 0.0012001\n",
      "[t-SNE] KL divergence after 100 iterations with early exaggeration: 1.317379\n",
      "[t-SNE] Iteration 125: error = 1.2969683, gradient norm = 0.0008987\n",
      "[t-SNE] Iteration 125: gradient norm 0.000899. Finished.\n",
      "[t-SNE] Error after 125 iterations: 1.317379\n",
      "--- 61.477477073669434 seconds ---\n"
     ]
    }
   ],
   "source": [
    "X = np.array(song_vectors).reshape((5761, 50))\n",
    "\n",
    "start_time = time.time()\n",
    "tsne = sklearn.manifold.TSNE(n_components=2, n_iter=200, random_state=0, verbose=2)\n",
    "\n",
    "all_word_vectors_matrix_2d = tsne.fit_transform(X)\n",
    "\n",
    "print(\"--- %s seconds ---\" % (time.time() - start_time))\n",
    "\n"
   ]
  },
  {
   "cell_type": "code",
   "execution_count": 28,
   "metadata": {
    "collapsed": false
   },
   "outputs": [],
   "source": [
    "df=pd.DataFrame(all_word_vectors_matrix_2d,columns=['X','Y'])\n",
    "\n",
    "df.head(10)\n",
    "\n",
    "train.head()\n",
    "\n",
    "df.reset_index(drop=True, inplace=True)\n",
    "train.reset_index(drop=True, inplace=True)"
   ]
  },
  {
   "cell_type": "code",
   "execution_count": 29,
   "metadata": {
    "collapsed": false
   },
   "outputs": [
    {
     "data": {
      "text/html": [
       "<div>\n",
       "<table border=\"1\" class=\"dataframe\">\n",
       "  <thead>\n",
       "    <tr style=\"text-align: right;\">\n",
       "      <th></th>\n",
       "      <th>artist</th>\n",
       "      <th>song</th>\n",
       "      <th>link</th>\n",
       "      <th>text</th>\n",
       "      <th>song_vector</th>\n",
       "      <th>X</th>\n",
       "      <th>Y</th>\n",
       "    </tr>\n",
       "  </thead>\n",
       "  <tbody>\n",
       "    <tr>\n",
       "      <th>0</th>\n",
       "      <td>Oliver</td>\n",
       "      <td>As Long As He Needs Me</td>\n",
       "      <td>/o/oliver/as+long+as+he+needs+me_20608709.html</td>\n",
       "      <td>As long as he needs me...  \\nOh, yes, he does ...</td>\n",
       "      <td>[[-0.0315812, 0.335919, -0.196711, -0.0528897,...</td>\n",
       "      <td>-3.149459</td>\n",
       "      <td>1.857558</td>\n",
       "    </tr>\n",
       "    <tr>\n",
       "      <th>1</th>\n",
       "      <td>Paul Simon</td>\n",
       "      <td>You're Kind</td>\n",
       "      <td>/p/paul+simon/youre+kind_20105959.html</td>\n",
       "      <td>You're kind, you're so kind  \\nYou rescued me ...</td>\n",
       "      <td>[[0.0302546, 0.273594, -0.19587, -0.0314226, -...</td>\n",
       "      <td>-3.942099</td>\n",
       "      <td>-1.864561</td>\n",
       "    </tr>\n",
       "    <tr>\n",
       "      <th>2</th>\n",
       "      <td>Zornik</td>\n",
       "      <td>We Are Lost</td>\n",
       "      <td>/z/zornik/we+are+lost_20347214.html</td>\n",
       "      <td>I want to climb up in the sky with you  \\nTo s...</td>\n",
       "      <td>[[0.0208253, 0.292814, -0.206927, -0.0749131, ...</td>\n",
       "      <td>3.385142</td>\n",
       "      <td>-4.797422</td>\n",
       "    </tr>\n",
       "    <tr>\n",
       "      <th>3</th>\n",
       "      <td>Bee Gees</td>\n",
       "      <td>Loose Talk Costs Lives</td>\n",
       "      <td>/b/bee+gees/loose+talk+costs+lives_20015752.html</td>\n",
       "      <td>Loose talk costs lives  \\nPeople like to play ...</td>\n",
       "      <td>[[0.0390722, 0.321847, -0.189492, -0.012435, -...</td>\n",
       "      <td>3.368369</td>\n",
       "      <td>-5.955466</td>\n",
       "    </tr>\n",
       "    <tr>\n",
       "      <th>4</th>\n",
       "      <td>Dolly Parton</td>\n",
       "      <td>Hillbilly Willy</td>\n",
       "      <td>/d/dolly+parton/hillbilly+willy_20214066.html</td>\n",
       "      <td>Now Little Will was from the hills way back in...</td>\n",
       "      <td>[[0.138491, 0.291326, -0.160594, -0.0387402, -...</td>\n",
       "      <td>0.033931</td>\n",
       "      <td>3.944600</td>\n",
       "    </tr>\n",
       "  </tbody>\n",
       "</table>\n",
       "</div>"
      ],
      "text/plain": [
       "         artist                    song  \\\n",
       "0        Oliver  As Long As He Needs Me   \n",
       "1    Paul Simon             You're Kind   \n",
       "2        Zornik             We Are Lost   \n",
       "3      Bee Gees  Loose Talk Costs Lives   \n",
       "4  Dolly Parton         Hillbilly Willy   \n",
       "\n",
       "                                               link  \\\n",
       "0    /o/oliver/as+long+as+he+needs+me_20608709.html   \n",
       "1            /p/paul+simon/youre+kind_20105959.html   \n",
       "2               /z/zornik/we+are+lost_20347214.html   \n",
       "3  /b/bee+gees/loose+talk+costs+lives_20015752.html   \n",
       "4     /d/dolly+parton/hillbilly+willy_20214066.html   \n",
       "\n",
       "                                                text  \\\n",
       "0  As long as he needs me...  \\nOh, yes, he does ...   \n",
       "1  You're kind, you're so kind  \\nYou rescued me ...   \n",
       "2  I want to climb up in the sky with you  \\nTo s...   \n",
       "3  Loose talk costs lives  \\nPeople like to play ...   \n",
       "4  Now Little Will was from the hills way back in...   \n",
       "\n",
       "                                         song_vector         X         Y  \n",
       "0  [[-0.0315812, 0.335919, -0.196711, -0.0528897,... -3.149459  1.857558  \n",
       "1  [[0.0302546, 0.273594, -0.19587, -0.0314226, -... -3.942099 -1.864561  \n",
       "2  [[0.0208253, 0.292814, -0.206927, -0.0749131, ...  3.385142 -4.797422  \n",
       "3  [[0.0390722, 0.321847, -0.189492, -0.012435, -...  3.368369 -5.955466  \n",
       "4  [[0.138491, 0.291326, -0.160594, -0.0387402, -...  0.033931  3.944600  "
      ]
     },
     "execution_count": 29,
     "metadata": {},
     "output_type": "execute_result"
    }
   ],
   "source": [
    "two_dimensional_songs = pd.concat([train, df], axis=1)\n",
    "\n",
    "two_dimensional_songs.head()"
   ]
  },
  {
   "cell_type": "code",
   "execution_count": 41,
   "metadata": {
    "collapsed": false
   },
   "outputs": [
    {
     "data": {
      "text/html": [
       "<script>requirejs.config({paths: { 'plotly': ['https://cdn.plot.ly/plotly-latest.min']},});if(!window.Plotly) {{require(['plotly'],function(plotly) {window.Plotly=plotly;});}}</script>"
      ],
      "text/plain": [
       "<IPython.core.display.HTML object>"
      ]
     },
     "metadata": {},
     "output_type": "display_data"
    },
    {
     "data": {
      "text/html": [
       "<iframe id=\"igraph\" scrolling=\"no\" style=\"border:none;\" seamless=\"seamless\" src=\"https://plot.ly/~achadha0111/2.embed\" height=\"525px\" width=\"100%\"></iframe>"
      ],
      "text/plain": [
       "<plotly.tools.PlotlyDisplay object>"
      ]
     },
     "execution_count": 41,
     "metadata": {},
     "output_type": "execute_result"
    }
   ],
   "source": [
    "from plotly.offline import download_plotlyjs, init_notebook_mode, plot, iplot\n",
    "\n",
    "init_notebook_mode(connected=True)\n",
    "\n",
    "import plotly.graph_objs as go\n",
    "\n",
    "trace1 = go.Scatter(\n",
    "    y = two_dimensional_songs['Y'],\n",
    "    x = two_dimensional_songs['X'],\n",
    "    text = two_dimensional_songs['song'],\n",
    "    mode='markers',\n",
    "    marker=dict(\n",
    "        size='7',\n",
    "        color = np.random.randn(5717), #set color equal to a variable\n",
    "        colorscale='Viridis',\n",
    "        showscale=True\n",
    "    )\n",
    ")\n",
    "data = [trace1]\n",
    "\n",
    "py.iplot(data, filename='song_similarity')"
   ]
  },
  {
   "cell_type": "code",
   "execution_count": null,
   "metadata": {
    "collapsed": true
   },
   "outputs": [],
   "source": []
  }
 ],
 "metadata": {
  "kernelspec": {
   "display_name": "Python 3",
   "language": "python",
   "name": "python3"
  },
  "language_info": {
   "codemirror_mode": {
    "name": "ipython",
    "version": 3
   },
   "file_extension": ".py",
   "mimetype": "text/x-python",
   "name": "python",
   "nbconvert_exporter": "python",
   "pygments_lexer": "ipython3",
   "version": "3.6.0"
  }
 },
 "nbformat": 4,
 "nbformat_minor": 2
}
